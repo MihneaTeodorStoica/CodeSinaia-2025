{
 "cells": [
  {
   "cell_type": "markdown",
   "id": "80fe14f6",
   "metadata": {},
   "source": [
    "This is a demo of a jupyter notebook. It has _this_ markdown block and one simple `code` block following it."
   ]
  },
  {
   "cell_type": "code",
   "execution_count": 3,
   "id": "23a5400a",
   "metadata": {},
   "outputs": [
    {
     "name": "stdout",
     "output_type": "stream",
     "text": [
      "Hello Jupyter World!\n"
     ]
    }
   ],
   "source": [
    "print(\"Hello Jupyter World!\")"
   ]
  },
  {
   "cell_type": "code",
   "execution_count": 11,
   "id": "6bc2511e",
   "metadata": {},
   "outputs": [
    {
     "name": "stdout",
     "output_type": "stream",
     "text": [
      "Hello too easy!\n"
     ]
    }
   ],
   "source": [
    "print(f\"Hello {input('What is your name? ')}!\")"
   ]
  },
  {
   "cell_type": "code",
   "execution_count": null,
   "id": "6619b3d5",
   "metadata": {},
   "outputs": [],
   "source": []
  }
 ],
 "metadata": {
  "kernelspec": {
   "display_name": ".venv",
   "language": "python",
   "name": "python3"
  },
  "language_info": {
   "codemirror_mode": {
    "name": "ipython",
    "version": 3
   },
   "file_extension": ".py",
   "mimetype": "text/x-python",
   "name": "python",
   "nbconvert_exporter": "python",
   "pygments_lexer": "ipython3",
   "version": "3.12.3"
  }
 },
 "nbformat": 4,
 "nbformat_minor": 5
}
